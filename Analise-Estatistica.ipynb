{
  "nbformat": 4,
  "nbformat_minor": 0,
  "metadata": {
    "colab": {
      "name": "Estatística.ipynb",
      "provenance": [],
      "collapsed_sections": [],
      "toc_visible": true,
      "mount_file_id": "1seARbQ1qha5Th9XnrXmQzCGhyE7hkxIf",
      "authorship_tag": "ABX9TyO+X1EcDnGWSGitHjtZkyGG",
      "include_colab_link": true
    },
    "kernelspec": {
      "name": "python3",
      "display_name": "Python 3"
    },
    "accelerator": "GPU"
  },
  "cells": [
    {
      "cell_type": "markdown",
      "metadata": {
        "id": "view-in-github",
        "colab_type": "text"
      },
      "source": [
        "<a href=\"https://colab.research.google.com/github/devAquino/Analise-Estatistica/blob/main/Analise-Estatistica.ipynb\" target=\"_parent\"><img src=\"https://colab.research.google.com/assets/colab-badge.svg\" alt=\"Open In Colab\"/></a>"
      ]
    },
    {
      "cell_type": "markdown",
      "metadata": {
        "id": "UrhDxWVsXb89"
      },
      "source": [
        "# Explorando um conjunto de dados (temperaturas)\n"
      ]
    },
    {
      "cell_type": "code",
      "metadata": {
        "id": "9ngG_EsmeWlm"
      },
      "source": [
        "import pandas as pd\n",
        "import numpy as np\n",
        "from math import log"
      ],
      "execution_count": 1,
      "outputs": []
    },
    {
      "cell_type": "code",
      "metadata": {
        "id": "Ax2QsueFdiwo"
      },
      "source": [
        "temperatura = [98.60,98.60,98.00,98.00,99.00,98.40,98.40,98.40,98.40,98.60,98.60,98.80,98.60,97.00,97.00,98.80,97.60,97.70,98.80,98.00,98.00,98.30,98.50,97.30,98.70,97.40,98.90,98.60,99.50,97.50,97.30,97.60,88.20,99.60,98.70,99.40,98.20,98.00,98.60,98.60,97.20,98.40,98.60,98.20,98.00,97.80,98.00,98.40,98.60,98.60,97.80,99.00,96.50,97.60,98.00,96.90,97.60,97.10,97.90,98.40,97.30,98.00,97.50,97.60,98.20,98.50,98.80,98.70,97.80,98.00,97.10,97.40,99.40,98.40,98.60,98.40,98.50,98.60,98.30,98.70,98.80,99.10,98.60,97.90,98.80,98.00,98.70,98.50,98.90,98.40,98.60,97.10,97.90,98.80,98.70,97.60,98.20,99.20,97.80,98.00,98.40,97.80,98.40,97.40,98.00,97.00]"
      ],
      "execution_count": 2,
      "outputs": []
    },
    {
      "cell_type": "markdown",
      "metadata": {
        "id": "ozldsxpNlTjM"
      },
      "source": [
        "Ordenando a lista em ordem crescente\n"
      ]
    },
    {
      "cell_type": "code",
      "metadata": {
        "id": "egLBlecbg4Kl",
        "colab": {
          "base_uri": "https://localhost:8080/"
        },
        "outputId": "cdfc7bae-4721-492c-8e5a-8f686e902348"
      },
      "source": [
        "temperatura.sort()\n",
        "print(temperatura, end=\" \")\n"
      ],
      "execution_count": 3,
      "outputs": [
        {
          "output_type": "stream",
          "name": "stdout",
          "text": [
            "[88.2, 96.5, 96.9, 97.0, 97.0, 97.0, 97.1, 97.1, 97.1, 97.2, 97.3, 97.3, 97.3, 97.4, 97.4, 97.4, 97.5, 97.5, 97.6, 97.6, 97.6, 97.6, 97.6, 97.6, 97.7, 97.8, 97.8, 97.8, 97.8, 97.8, 97.9, 97.9, 97.9, 98.0, 98.0, 98.0, 98.0, 98.0, 98.0, 98.0, 98.0, 98.0, 98.0, 98.0, 98.0, 98.0, 98.2, 98.2, 98.2, 98.2, 98.3, 98.3, 98.4, 98.4, 98.4, 98.4, 98.4, 98.4, 98.4, 98.4, 98.4, 98.4, 98.4, 98.4, 98.5, 98.5, 98.5, 98.5, 98.6, 98.6, 98.6, 98.6, 98.6, 98.6, 98.6, 98.6, 98.6, 98.6, 98.6, 98.6, 98.6, 98.6, 98.6, 98.7, 98.7, 98.7, 98.7, 98.7, 98.7, 98.8, 98.8, 98.8, 98.8, 98.8, 98.8, 98.8, 98.9, 98.9, 99.0, 99.0, 99.1, 99.2, 99.4, 99.4, 99.5, 99.6] "
          ]
        }
      ]
    },
    {
      "cell_type": "markdown",
      "metadata": {
        "id": "yV8gtQCodFer"
      },
      "source": [
        "Calculando a amplitude da variação de dados(amp)"
      ]
    },
    {
      "cell_type": "code",
      "metadata": {
        "colab": {
          "base_uri": "https://localhost:8080/"
        },
        "id": "G8-kcR0odKS8",
        "outputId": "b0a0cee4-8bfa-43ec-edaa-6bef069593af"
      },
      "source": [
        "amp = max(temperatura)-min(temperatura)\n",
        "amp\n"
      ],
      "execution_count": 4,
      "outputs": [
        {
          "output_type": "execute_result",
          "data": {
            "text/plain": [
              "11.399999999999991"
            ]
          },
          "metadata": {},
          "execution_count": 4
        }
      ]
    },
    {
      "cell_type": "markdown",
      "metadata": {
        "id": "tugDwRh2eFIw"
      },
      "source": [
        "Arredondando a amplitude para mais"
      ]
    },
    {
      "cell_type": "code",
      "metadata": {
        "colab": {
          "base_uri": "https://localhost:8080/"
        },
        "id": "gTmhQeTveKUT",
        "outputId": "820dc714-e9e3-4f1b-e934-3d9b5f868bd4"
      },
      "source": [
        "amp = round(amp,2)\n",
        "amp"
      ],
      "execution_count": 5,
      "outputs": [
        {
          "output_type": "execute_result",
          "data": {
            "text/plain": [
              "11.4"
            ]
          },
          "metadata": {},
          "execution_count": 5
        }
      ]
    },
    {
      "cell_type": "markdown",
      "metadata": {
        "id": "KoBDmIBBlGIW"
      },
      "source": [
        "Retornando o tamanho da lista\n"
      ]
    },
    {
      "cell_type": "code",
      "metadata": {
        "id": "X6jlf7YkhIju",
        "colab": {
          "base_uri": "https://localhost:8080/"
        },
        "outputId": "beb9642c-d2e4-476b-906a-65f9d24892e2"
      },
      "source": [
        "n = len(temperatura)\n",
        "n"
      ],
      "execution_count": 6,
      "outputs": [
        {
          "output_type": "execute_result",
          "data": {
            "text/plain": [
              "106"
            ]
          },
          "metadata": {},
          "execution_count": 6
        }
      ]
    },
    {
      "cell_type": "markdown",
      "metadata": {
        "id": "qGO1iVa4pDUx"
      },
      "source": [
        "Utilizando a Regra de Sturges"
      ]
    },
    {
      "cell_type": "code",
      "metadata": {
        "id": "JuuVbObhpRYJ",
        "colab": {
          "base_uri": "https://localhost:8080/"
        },
        "outputId": "fa279899-5edb-4474-f37c-fad32bdfad19"
      },
      "source": [
        "k = 1 + log(n, 2)\n",
        "k"
      ],
      "execution_count": 7,
      "outputs": [
        {
          "output_type": "execute_result",
          "data": {
            "text/plain": [
              "7.727920454563199"
            ]
          },
          "metadata": {},
          "execution_count": 7
        }
      ]
    },
    {
      "cell_type": "markdown",
      "metadata": {
        "id": "x3q-GnM7f84X"
      },
      "source": [
        "Arredondando o resultado da Regra de Sturges para o próximo inteiro"
      ]
    },
    {
      "cell_type": "code",
      "metadata": {
        "colab": {
          "base_uri": "https://localhost:8080/"
        },
        "id": "JqlolMGXf49M",
        "outputId": "6207c48b-61c9-4b89-df4d-8cfde06af901"
      },
      "source": [
        "k = round(k+0.5)\n",
        "k"
      ],
      "execution_count": 8,
      "outputs": [
        {
          "output_type": "execute_result",
          "data": {
            "text/plain": [
              "8"
            ]
          },
          "metadata": {},
          "execution_count": 8
        }
      ]
    },
    {
      "cell_type": "markdown",
      "metadata": {
        "id": "-Mfx7HiGCthE"
      },
      "source": [
        "Calculando o tamanho da classe"
      ]
    },
    {
      "cell_type": "code",
      "metadata": {
        "colab": {
          "base_uri": "https://localhost:8080/"
        },
        "id": "C2egYtD5gmzW",
        "outputId": "0326396a-ffb6-4b61-a971-dac3ca8d0666"
      },
      "source": [
        "h = amp/k\n",
        "h"
      ],
      "execution_count": 9,
      "outputs": [
        {
          "output_type": "execute_result",
          "data": {
            "text/plain": [
              "1.425"
            ]
          },
          "metadata": {},
          "execution_count": 9
        }
      ]
    },
    {
      "cell_type": "markdown",
      "metadata": {
        "id": "5ueJ0n91jqFr"
      },
      "source": [
        "Arredondando o tamanho da classe para mais"
      ]
    },
    {
      "cell_type": "code",
      "metadata": {
        "colab": {
          "base_uri": "https://localhost:8080/"
        },
        "id": "5l5gY-6vB2fc",
        "outputId": "9e1c6a92-270f-4613-9ff5-e362c34a0737"
      },
      "source": [
        "h = round(h, 2)\n",
        "h"
      ],
      "execution_count": 10,
      "outputs": [
        {
          "output_type": "execute_result",
          "data": {
            "text/plain": [
              "1.43"
            ]
          },
          "metadata": {},
          "execution_count": 10
        }
      ]
    },
    {
      "cell_type": "code",
      "metadata": {
        "colab": {
          "base_uri": "https://localhost:8080/"
        },
        "id": "O63ls-Usljry",
        "outputId": "5ed7af69-afee-4cff-8493-280fe49bf59f"
      },
      "source": [
        "round(min(temperatura)+ 1*h, 2 )"
      ],
      "execution_count": 11,
      "outputs": [
        {
          "output_type": "execute_result",
          "data": {
            "text/plain": [
              "89.63"
            ]
          },
          "metadata": {},
          "execution_count": 11
        }
      ]
    },
    {
      "cell_type": "markdown",
      "metadata": {
        "id": "GVOie4OFvgcq"
      },
      "source": [
        "Capturando os intervalos da classe\n"
      ]
    },
    {
      "cell_type": "code",
      "metadata": {
        "colab": {
          "base_uri": "https://localhost:8080/"
        },
        "id": "L0oH1IKAu8P3",
        "outputId": "6679d147-2bb6-44af-a17e-a470b8e1e41a"
      },
      "source": [
        "valores = []\n",
        "for i in range(0, k+1):\n",
        "    valores.append(round(min(temperatura)+ i*h, 2))\n",
        "valores"
      ],
      "execution_count": 12,
      "outputs": [
        {
          "output_type": "execute_result",
          "data": {
            "text/plain": [
              "[88.2, 89.63, 91.06, 92.49, 93.92, 95.35, 96.78, 98.21, 99.64]"
            ]
          },
          "metadata": {},
          "execution_count": 12
        }
      ]
    },
    {
      "cell_type": "code",
      "metadata": {
        "colab": {
          "base_uri": "https://localhost:8080/",
          "height": 300
        },
        "id": "FAV1_mpCILT5",
        "outputId": "a2084a80-4ae4-41ff-db66-a6c1264f6b8a"
      },
      "source": [
        "\n",
        "\n",
        "c = ['Contador']\n",
        "df = pd.DataFrame(temperatura, columns=c)\n",
        "intervalo = pd.cut(df['Contador'], valores).value_counts()\n",
        "intervalo = intervalo.rename_axis('Classe').reset_index()\n",
        "intervalo.sort_values(by='Classe')"
      ],
      "execution_count": 13,
      "outputs": [
        {
          "output_type": "execute_result",
          "data": {
            "text/plain": [
              "           Classe  Contador\n",
              "3   (88.2, 89.63]         0\n",
              "4  (89.63, 91.06]         0\n",
              "5  (91.06, 92.49]         0\n",
              "6  (92.49, 93.92]         0\n",
              "7  (93.92, 95.35]         0\n",
              "2  (95.35, 96.78]         1\n",
              "1  (96.78, 98.21]        48\n",
              "0  (98.21, 99.64]        56"
            ],
            "text/html": [
              "\n",
              "  <div id=\"df-7c6b4ab3-2250-4caa-b323-28e0f2000797\">\n",
              "    <div class=\"colab-df-container\">\n",
              "      <div>\n",
              "<style scoped>\n",
              "    .dataframe tbody tr th:only-of-type {\n",
              "        vertical-align: middle;\n",
              "    }\n",
              "\n",
              "    .dataframe tbody tr th {\n",
              "        vertical-align: top;\n",
              "    }\n",
              "\n",
              "    .dataframe thead th {\n",
              "        text-align: right;\n",
              "    }\n",
              "</style>\n",
              "<table border=\"1\" class=\"dataframe\">\n",
              "  <thead>\n",
              "    <tr style=\"text-align: right;\">\n",
              "      <th></th>\n",
              "      <th>Classe</th>\n",
              "      <th>Contador</th>\n",
              "    </tr>\n",
              "  </thead>\n",
              "  <tbody>\n",
              "    <tr>\n",
              "      <th>3</th>\n",
              "      <td>(88.2, 89.63]</td>\n",
              "      <td>0</td>\n",
              "    </tr>\n",
              "    <tr>\n",
              "      <th>4</th>\n",
              "      <td>(89.63, 91.06]</td>\n",
              "      <td>0</td>\n",
              "    </tr>\n",
              "    <tr>\n",
              "      <th>5</th>\n",
              "      <td>(91.06, 92.49]</td>\n",
              "      <td>0</td>\n",
              "    </tr>\n",
              "    <tr>\n",
              "      <th>6</th>\n",
              "      <td>(92.49, 93.92]</td>\n",
              "      <td>0</td>\n",
              "    </tr>\n",
              "    <tr>\n",
              "      <th>7</th>\n",
              "      <td>(93.92, 95.35]</td>\n",
              "      <td>0</td>\n",
              "    </tr>\n",
              "    <tr>\n",
              "      <th>2</th>\n",
              "      <td>(95.35, 96.78]</td>\n",
              "      <td>1</td>\n",
              "    </tr>\n",
              "    <tr>\n",
              "      <th>1</th>\n",
              "      <td>(96.78, 98.21]</td>\n",
              "      <td>48</td>\n",
              "    </tr>\n",
              "    <tr>\n",
              "      <th>0</th>\n",
              "      <td>(98.21, 99.64]</td>\n",
              "      <td>56</td>\n",
              "    </tr>\n",
              "  </tbody>\n",
              "</table>\n",
              "</div>\n",
              "      <button class=\"colab-df-convert\" onclick=\"convertToInteractive('df-7c6b4ab3-2250-4caa-b323-28e0f2000797')\"\n",
              "              title=\"Convert this dataframe to an interactive table.\"\n",
              "              style=\"display:none;\">\n",
              "        \n",
              "  <svg xmlns=\"http://www.w3.org/2000/svg\" height=\"24px\"viewBox=\"0 0 24 24\"\n",
              "       width=\"24px\">\n",
              "    <path d=\"M0 0h24v24H0V0z\" fill=\"none\"/>\n",
              "    <path d=\"M18.56 5.44l.94 2.06.94-2.06 2.06-.94-2.06-.94-.94-2.06-.94 2.06-2.06.94zm-11 1L8.5 8.5l.94-2.06 2.06-.94-2.06-.94L8.5 2.5l-.94 2.06-2.06.94zm10 10l.94 2.06.94-2.06 2.06-.94-2.06-.94-.94-2.06-.94 2.06-2.06.94z\"/><path d=\"M17.41 7.96l-1.37-1.37c-.4-.4-.92-.59-1.43-.59-.52 0-1.04.2-1.43.59L10.3 9.45l-7.72 7.72c-.78.78-.78 2.05 0 2.83L4 21.41c.39.39.9.59 1.41.59.51 0 1.02-.2 1.41-.59l7.78-7.78 2.81-2.81c.8-.78.8-2.07 0-2.86zM5.41 20L4 18.59l7.72-7.72 1.47 1.35L5.41 20z\"/>\n",
              "  </svg>\n",
              "      </button>\n",
              "      \n",
              "  <style>\n",
              "    .colab-df-container {\n",
              "      display:flex;\n",
              "      flex-wrap:wrap;\n",
              "      gap: 12px;\n",
              "    }\n",
              "\n",
              "    .colab-df-convert {\n",
              "      background-color: #E8F0FE;\n",
              "      border: none;\n",
              "      border-radius: 50%;\n",
              "      cursor: pointer;\n",
              "      display: none;\n",
              "      fill: #1967D2;\n",
              "      height: 32px;\n",
              "      padding: 0 0 0 0;\n",
              "      width: 32px;\n",
              "    }\n",
              "\n",
              "    .colab-df-convert:hover {\n",
              "      background-color: #E2EBFA;\n",
              "      box-shadow: 0px 1px 2px rgba(60, 64, 67, 0.3), 0px 1px 3px 1px rgba(60, 64, 67, 0.15);\n",
              "      fill: #174EA6;\n",
              "    }\n",
              "\n",
              "    [theme=dark] .colab-df-convert {\n",
              "      background-color: #3B4455;\n",
              "      fill: #D2E3FC;\n",
              "    }\n",
              "\n",
              "    [theme=dark] .colab-df-convert:hover {\n",
              "      background-color: #434B5C;\n",
              "      box-shadow: 0px 1px 3px 1px rgba(0, 0, 0, 0.15);\n",
              "      filter: drop-shadow(0px 1px 2px rgba(0, 0, 0, 0.3));\n",
              "      fill: #FFFFFF;\n",
              "    }\n",
              "  </style>\n",
              "\n",
              "      <script>\n",
              "        const buttonEl =\n",
              "          document.querySelector('#df-7c6b4ab3-2250-4caa-b323-28e0f2000797 button.colab-df-convert');\n",
              "        buttonEl.style.display =\n",
              "          google.colab.kernel.accessAllowed ? 'block' : 'none';\n",
              "\n",
              "        async function convertToInteractive(key) {\n",
              "          const element = document.querySelector('#df-7c6b4ab3-2250-4caa-b323-28e0f2000797');\n",
              "          const dataTable =\n",
              "            await google.colab.kernel.invokeFunction('convertToInteractive',\n",
              "                                                     [key], {});\n",
              "          if (!dataTable) return;\n",
              "\n",
              "          const docLinkHtml = 'Like what you see? Visit the ' +\n",
              "            '<a target=\"_blank\" href=https://colab.research.google.com/notebooks/data_table.ipynb>data table notebook</a>'\n",
              "            + ' to learn more about interactive tables.';\n",
              "          element.innerHTML = '';\n",
              "          dataTable['output_type'] = 'display_data';\n",
              "          await google.colab.output.renderOutput(dataTable, element);\n",
              "          const docLink = document.createElement('div');\n",
              "          docLink.innerHTML = docLinkHtml;\n",
              "          element.appendChild(docLink);\n",
              "        }\n",
              "      </script>\n",
              "    </div>\n",
              "  </div>\n",
              "  "
            ]
          },
          "metadata": {},
          "execution_count": 13
        }
      ]
    },
    {
      "cell_type": "markdown",
      "metadata": {
        "id": "qKCLPT7YW7MH"
      },
      "source": [
        "Criando as classes como strings"
      ]
    },
    {
      "cell_type": "code",
      "metadata": {
        "id": "W3h9sn38vobs"
      },
      "source": [
        "classe = ['88.20 |--- 89.63'], ['89.63 |-- 91.06 '], ['91.06 |-- 92.49 '], ['92.49 |-- 93.92  '], ['93.92  |-- 95.35 '],['95.35 |-- 96.78 '],['96.78 |-- 98.21  '],['98.21 |-- 99.64']"
      ],
      "execution_count": 14,
      "outputs": []
    },
    {
      "cell_type": "code",
      "metadata": {
        "id": "UZgEKcAY69_C",
        "colab": {
          "base_uri": "https://localhost:8080/"
        },
        "outputId": "8478c4af-5a0c-447c-9bca-e5b80cdc4f90"
      },
      "source": [
        "temperatura = np.array([temperatura])\n",
        "temperatura\n"
      ],
      "execution_count": 15,
      "outputs": [
        {
          "output_type": "execute_result",
          "data": {
            "text/plain": [
              "array([[88.2, 96.5, 96.9, 97. , 97. , 97. , 97.1, 97.1, 97.1, 97.2, 97.3,\n",
              "        97.3, 97.3, 97.4, 97.4, 97.4, 97.5, 97.5, 97.6, 97.6, 97.6, 97.6,\n",
              "        97.6, 97.6, 97.7, 97.8, 97.8, 97.8, 97.8, 97.8, 97.9, 97.9, 97.9,\n",
              "        98. , 98. , 98. , 98. , 98. , 98. , 98. , 98. , 98. , 98. , 98. ,\n",
              "        98. , 98. , 98.2, 98.2, 98.2, 98.2, 98.3, 98.3, 98.4, 98.4, 98.4,\n",
              "        98.4, 98.4, 98.4, 98.4, 98.4, 98.4, 98.4, 98.4, 98.4, 98.5, 98.5,\n",
              "        98.5, 98.5, 98.6, 98.6, 98.6, 98.6, 98.6, 98.6, 98.6, 98.6, 98.6,\n",
              "        98.6, 98.6, 98.6, 98.6, 98.6, 98.6, 98.7, 98.7, 98.7, 98.7, 98.7,\n",
              "        98.7, 98.8, 98.8, 98.8, 98.8, 98.8, 98.8, 98.8, 98.9, 98.9, 99. ,\n",
              "        99. , 99.1, 99.2, 99.4, 99.4, 99.5, 99.6]])"
            ]
          },
          "metadata": {},
          "execution_count": 15
        }
      ]
    },
    {
      "cell_type": "markdown",
      "metadata": {
        "id": "NSIjuKobdewZ"
      },
      "source": [
        "microdados_enem_2019"
      ]
    },
    {
      "cell_type": "markdown",
      "metadata": {
        "id": "rqkt1_34XnCU"
      },
      "source": [
        "# Explorando conjunto de dados criminal da França"
      ]
    },
    {
      "cell_type": "code",
      "metadata": {
        "id": "DBx9HGgbarGj"
      },
      "source": [
        "import pandas as pd\n",
        "import numpy as np"
      ],
      "execution_count": 17,
      "outputs": []
    },
    {
      "cell_type": "code",
      "metadata": {
        "id": "AZMNLiLua_rU",
        "colab": {
          "base_uri": "https://localhost:8080/"
        },
        "outputId": "b577f235-edbd-4ea2-b6b3-a969d5990b02"
      },
      "source": [
        "dados_criminal = pd.read_csv(\"/content/drive/MyDrive/Estatística/CausesOfDeath_France_2001-2008.csv\")\n",
        "dados_criminal.columns.values"
      ],
      "execution_count": 18,
      "outputs": [
        {
          "output_type": "execute_result",
          "data": {
            "text/plain": [
              "array(['TIME', 'GEO', 'UNIT', 'SEX', 'AGE', 'ICD10', 'Value',\n",
              "       'Flag and Footnotes'], dtype=object)"
            ]
          },
          "metadata": {},
          "execution_count": 18
        }
      ]
    },
    {
      "cell_type": "markdown",
      "metadata": {
        "id": "gwbAEhlSTnvQ"
      },
      "source": [
        "Capturando colunas do dataset"
      ]
    },
    {
      "cell_type": "code",
      "metadata": {
        "id": "zV8GRsm-4fRG",
        "colab": {
          "base_uri": "https://localhost:8080/"
        },
        "outputId": "19e7ccd1-a3bf-48ff-b949-63bae64a2942"
      },
      "source": [
        "dados_criminal.columns.values"
      ],
      "execution_count": 19,
      "outputs": [
        {
          "output_type": "execute_result",
          "data": {
            "text/plain": [
              "array(['TIME', 'GEO', 'UNIT', 'SEX', 'AGE', 'ICD10', 'Value',\n",
              "       'Flag and Footnotes'], dtype=object)"
            ]
          },
          "metadata": {},
          "execution_count": 19
        }
      ]
    },
    {
      "cell_type": "markdown",
      "metadata": {
        "id": "I6CaUeVGTrCs"
      },
      "source": [
        "Selecionando colunas para trabalhar\n"
      ]
    },
    {
      "cell_type": "code",
      "metadata": {
        "colab": {
          "base_uri": "https://localhost:8080/",
          "height": 424
        },
        "id": "Ff2GX2ZH4u3-",
        "outputId": "a1e8c931-8c96-4309-911e-8d450c44c708"
      },
      "source": [
        "colunas_selecionadas = ['TIME', 'ICD10', 'Value']\n",
        "criminal = dados_criminal.filter(colunas_selecionadas)\n",
        "criminal"
      ],
      "execution_count": 20,
      "outputs": [
        {
          "output_type": "execute_result",
          "data": {
            "text/plain": [
              "      TIME                                              ICD10    Value\n",
              "0     2001    All causes of death (A00-Y89) excluding S00-T98  277 858\n",
              "1     2001  Certain infectious and parasitic diseases (A00...    5 347\n",
              "2     2001                                       Tuberculosis      545\n",
              "3     2001                            Meningococcal infection       30\n",
              "4     2001                                    Viral hepatitis      471\n",
              "...    ...                                                ...      ...\n",
              "1051  2008                                              Falls    2 815\n",
              "1052  2008  Accidental poisoning by and exposure to noxiou...      630\n",
              "1053  2008                              Intentional self-harm    2 768\n",
              "1054  2008                                            Assault      166\n",
              "1055  2008                       Event of undetermined intent       68\n",
              "\n",
              "[1056 rows x 3 columns]"
            ],
            "text/html": [
              "\n",
              "  <div id=\"df-e55348ac-bc87-4372-afdb-782358126524\">\n",
              "    <div class=\"colab-df-container\">\n",
              "      <div>\n",
              "<style scoped>\n",
              "    .dataframe tbody tr th:only-of-type {\n",
              "        vertical-align: middle;\n",
              "    }\n",
              "\n",
              "    .dataframe tbody tr th {\n",
              "        vertical-align: top;\n",
              "    }\n",
              "\n",
              "    .dataframe thead th {\n",
              "        text-align: right;\n",
              "    }\n",
              "</style>\n",
              "<table border=\"1\" class=\"dataframe\">\n",
              "  <thead>\n",
              "    <tr style=\"text-align: right;\">\n",
              "      <th></th>\n",
              "      <th>TIME</th>\n",
              "      <th>ICD10</th>\n",
              "      <th>Value</th>\n",
              "    </tr>\n",
              "  </thead>\n",
              "  <tbody>\n",
              "    <tr>\n",
              "      <th>0</th>\n",
              "      <td>2001</td>\n",
              "      <td>All causes of death (A00-Y89) excluding S00-T98</td>\n",
              "      <td>277 858</td>\n",
              "    </tr>\n",
              "    <tr>\n",
              "      <th>1</th>\n",
              "      <td>2001</td>\n",
              "      <td>Certain infectious and parasitic diseases (A00...</td>\n",
              "      <td>5 347</td>\n",
              "    </tr>\n",
              "    <tr>\n",
              "      <th>2</th>\n",
              "      <td>2001</td>\n",
              "      <td>Tuberculosis</td>\n",
              "      <td>545</td>\n",
              "    </tr>\n",
              "    <tr>\n",
              "      <th>3</th>\n",
              "      <td>2001</td>\n",
              "      <td>Meningococcal infection</td>\n",
              "      <td>30</td>\n",
              "    </tr>\n",
              "    <tr>\n",
              "      <th>4</th>\n",
              "      <td>2001</td>\n",
              "      <td>Viral hepatitis</td>\n",
              "      <td>471</td>\n",
              "    </tr>\n",
              "    <tr>\n",
              "      <th>...</th>\n",
              "      <td>...</td>\n",
              "      <td>...</td>\n",
              "      <td>...</td>\n",
              "    </tr>\n",
              "    <tr>\n",
              "      <th>1051</th>\n",
              "      <td>2008</td>\n",
              "      <td>Falls</td>\n",
              "      <td>2 815</td>\n",
              "    </tr>\n",
              "    <tr>\n",
              "      <th>1052</th>\n",
              "      <td>2008</td>\n",
              "      <td>Accidental poisoning by and exposure to noxiou...</td>\n",
              "      <td>630</td>\n",
              "    </tr>\n",
              "    <tr>\n",
              "      <th>1053</th>\n",
              "      <td>2008</td>\n",
              "      <td>Intentional self-harm</td>\n",
              "      <td>2 768</td>\n",
              "    </tr>\n",
              "    <tr>\n",
              "      <th>1054</th>\n",
              "      <td>2008</td>\n",
              "      <td>Assault</td>\n",
              "      <td>166</td>\n",
              "    </tr>\n",
              "    <tr>\n",
              "      <th>1055</th>\n",
              "      <td>2008</td>\n",
              "      <td>Event of undetermined intent</td>\n",
              "      <td>68</td>\n",
              "    </tr>\n",
              "  </tbody>\n",
              "</table>\n",
              "<p>1056 rows × 3 columns</p>\n",
              "</div>\n",
              "      <button class=\"colab-df-convert\" onclick=\"convertToInteractive('df-e55348ac-bc87-4372-afdb-782358126524')\"\n",
              "              title=\"Convert this dataframe to an interactive table.\"\n",
              "              style=\"display:none;\">\n",
              "        \n",
              "  <svg xmlns=\"http://www.w3.org/2000/svg\" height=\"24px\"viewBox=\"0 0 24 24\"\n",
              "       width=\"24px\">\n",
              "    <path d=\"M0 0h24v24H0V0z\" fill=\"none\"/>\n",
              "    <path d=\"M18.56 5.44l.94 2.06.94-2.06 2.06-.94-2.06-.94-.94-2.06-.94 2.06-2.06.94zm-11 1L8.5 8.5l.94-2.06 2.06-.94-2.06-.94L8.5 2.5l-.94 2.06-2.06.94zm10 10l.94 2.06.94-2.06 2.06-.94-2.06-.94-.94-2.06-.94 2.06-2.06.94z\"/><path d=\"M17.41 7.96l-1.37-1.37c-.4-.4-.92-.59-1.43-.59-.52 0-1.04.2-1.43.59L10.3 9.45l-7.72 7.72c-.78.78-.78 2.05 0 2.83L4 21.41c.39.39.9.59 1.41.59.51 0 1.02-.2 1.41-.59l7.78-7.78 2.81-2.81c.8-.78.8-2.07 0-2.86zM5.41 20L4 18.59l7.72-7.72 1.47 1.35L5.41 20z\"/>\n",
              "  </svg>\n",
              "      </button>\n",
              "      \n",
              "  <style>\n",
              "    .colab-df-container {\n",
              "      display:flex;\n",
              "      flex-wrap:wrap;\n",
              "      gap: 12px;\n",
              "    }\n",
              "\n",
              "    .colab-df-convert {\n",
              "      background-color: #E8F0FE;\n",
              "      border: none;\n",
              "      border-radius: 50%;\n",
              "      cursor: pointer;\n",
              "      display: none;\n",
              "      fill: #1967D2;\n",
              "      height: 32px;\n",
              "      padding: 0 0 0 0;\n",
              "      width: 32px;\n",
              "    }\n",
              "\n",
              "    .colab-df-convert:hover {\n",
              "      background-color: #E2EBFA;\n",
              "      box-shadow: 0px 1px 2px rgba(60, 64, 67, 0.3), 0px 1px 3px 1px rgba(60, 64, 67, 0.15);\n",
              "      fill: #174EA6;\n",
              "    }\n",
              "\n",
              "    [theme=dark] .colab-df-convert {\n",
              "      background-color: #3B4455;\n",
              "      fill: #D2E3FC;\n",
              "    }\n",
              "\n",
              "    [theme=dark] .colab-df-convert:hover {\n",
              "      background-color: #434B5C;\n",
              "      box-shadow: 0px 1px 3px 1px rgba(0, 0, 0, 0.15);\n",
              "      filter: drop-shadow(0px 1px 2px rgba(0, 0, 0, 0.3));\n",
              "      fill: #FFFFFF;\n",
              "    }\n",
              "  </style>\n",
              "\n",
              "      <script>\n",
              "        const buttonEl =\n",
              "          document.querySelector('#df-e55348ac-bc87-4372-afdb-782358126524 button.colab-df-convert');\n",
              "        buttonEl.style.display =\n",
              "          google.colab.kernel.accessAllowed ? 'block' : 'none';\n",
              "\n",
              "        async function convertToInteractive(key) {\n",
              "          const element = document.querySelector('#df-e55348ac-bc87-4372-afdb-782358126524');\n",
              "          const dataTable =\n",
              "            await google.colab.kernel.invokeFunction('convertToInteractive',\n",
              "                                                     [key], {});\n",
              "          if (!dataTable) return;\n",
              "\n",
              "          const docLinkHtml = 'Like what you see? Visit the ' +\n",
              "            '<a target=\"_blank\" href=https://colab.research.google.com/notebooks/data_table.ipynb>data table notebook</a>'\n",
              "            + ' to learn more about interactive tables.';\n",
              "          element.innerHTML = '';\n",
              "          dataTable['output_type'] = 'display_data';\n",
              "          await google.colab.output.renderOutput(dataTable, element);\n",
              "          const docLink = document.createElement('div');\n",
              "          docLink.innerHTML = docLinkHtml;\n",
              "          element.appendChild(docLink);\n",
              "        }\n",
              "      </script>\n",
              "    </div>\n",
              "  </div>\n",
              "  "
            ]
          },
          "metadata": {},
          "execution_count": 20
        }
      ]
    },
    {
      "cell_type": "code",
      "metadata": {
        "colab": {
          "base_uri": "https://localhost:8080/",
          "height": 424
        },
        "id": "9ojOx1QOdeTU",
        "outputId": "a00f72ff-022a-40ee-b1c0-360feeb522ae"
      },
      "source": [
        "#pd.concat([s1, s2], axis=1)\n",
        "coluna_time = criminal['TIME']\n",
        "coluna_icd10 = criminal['ICD10']\n",
        "coluna_value = criminal['Value']\n",
        "df = pd.concat([coluna_time, coluna_icd10, coluna_value], axis=1)\n",
        "df"
      ],
      "execution_count": 21,
      "outputs": [
        {
          "output_type": "execute_result",
          "data": {
            "text/plain": [
              "      TIME                                              ICD10    Value\n",
              "0     2001    All causes of death (A00-Y89) excluding S00-T98  277 858\n",
              "1     2001  Certain infectious and parasitic diseases (A00...    5 347\n",
              "2     2001                                       Tuberculosis      545\n",
              "3     2001                            Meningococcal infection       30\n",
              "4     2001                                    Viral hepatitis      471\n",
              "...    ...                                                ...      ...\n",
              "1051  2008                                              Falls    2 815\n",
              "1052  2008  Accidental poisoning by and exposure to noxiou...      630\n",
              "1053  2008                              Intentional self-harm    2 768\n",
              "1054  2008                                            Assault      166\n",
              "1055  2008                       Event of undetermined intent       68\n",
              "\n",
              "[1056 rows x 3 columns]"
            ],
            "text/html": [
              "\n",
              "  <div id=\"df-5bd3fd68-3858-4f4a-8fe9-f5c1f73e7765\">\n",
              "    <div class=\"colab-df-container\">\n",
              "      <div>\n",
              "<style scoped>\n",
              "    .dataframe tbody tr th:only-of-type {\n",
              "        vertical-align: middle;\n",
              "    }\n",
              "\n",
              "    .dataframe tbody tr th {\n",
              "        vertical-align: top;\n",
              "    }\n",
              "\n",
              "    .dataframe thead th {\n",
              "        text-align: right;\n",
              "    }\n",
              "</style>\n",
              "<table border=\"1\" class=\"dataframe\">\n",
              "  <thead>\n",
              "    <tr style=\"text-align: right;\">\n",
              "      <th></th>\n",
              "      <th>TIME</th>\n",
              "      <th>ICD10</th>\n",
              "      <th>Value</th>\n",
              "    </tr>\n",
              "  </thead>\n",
              "  <tbody>\n",
              "    <tr>\n",
              "      <th>0</th>\n",
              "      <td>2001</td>\n",
              "      <td>All causes of death (A00-Y89) excluding S00-T98</td>\n",
              "      <td>277 858</td>\n",
              "    </tr>\n",
              "    <tr>\n",
              "      <th>1</th>\n",
              "      <td>2001</td>\n",
              "      <td>Certain infectious and parasitic diseases (A00...</td>\n",
              "      <td>5 347</td>\n",
              "    </tr>\n",
              "    <tr>\n",
              "      <th>2</th>\n",
              "      <td>2001</td>\n",
              "      <td>Tuberculosis</td>\n",
              "      <td>545</td>\n",
              "    </tr>\n",
              "    <tr>\n",
              "      <th>3</th>\n",
              "      <td>2001</td>\n",
              "      <td>Meningococcal infection</td>\n",
              "      <td>30</td>\n",
              "    </tr>\n",
              "    <tr>\n",
              "      <th>4</th>\n",
              "      <td>2001</td>\n",
              "      <td>Viral hepatitis</td>\n",
              "      <td>471</td>\n",
              "    </tr>\n",
              "    <tr>\n",
              "      <th>...</th>\n",
              "      <td>...</td>\n",
              "      <td>...</td>\n",
              "      <td>...</td>\n",
              "    </tr>\n",
              "    <tr>\n",
              "      <th>1051</th>\n",
              "      <td>2008</td>\n",
              "      <td>Falls</td>\n",
              "      <td>2 815</td>\n",
              "    </tr>\n",
              "    <tr>\n",
              "      <th>1052</th>\n",
              "      <td>2008</td>\n",
              "      <td>Accidental poisoning by and exposure to noxiou...</td>\n",
              "      <td>630</td>\n",
              "    </tr>\n",
              "    <tr>\n",
              "      <th>1053</th>\n",
              "      <td>2008</td>\n",
              "      <td>Intentional self-harm</td>\n",
              "      <td>2 768</td>\n",
              "    </tr>\n",
              "    <tr>\n",
              "      <th>1054</th>\n",
              "      <td>2008</td>\n",
              "      <td>Assault</td>\n",
              "      <td>166</td>\n",
              "    </tr>\n",
              "    <tr>\n",
              "      <th>1055</th>\n",
              "      <td>2008</td>\n",
              "      <td>Event of undetermined intent</td>\n",
              "      <td>68</td>\n",
              "    </tr>\n",
              "  </tbody>\n",
              "</table>\n",
              "<p>1056 rows × 3 columns</p>\n",
              "</div>\n",
              "      <button class=\"colab-df-convert\" onclick=\"convertToInteractive('df-5bd3fd68-3858-4f4a-8fe9-f5c1f73e7765')\"\n",
              "              title=\"Convert this dataframe to an interactive table.\"\n",
              "              style=\"display:none;\">\n",
              "        \n",
              "  <svg xmlns=\"http://www.w3.org/2000/svg\" height=\"24px\"viewBox=\"0 0 24 24\"\n",
              "       width=\"24px\">\n",
              "    <path d=\"M0 0h24v24H0V0z\" fill=\"none\"/>\n",
              "    <path d=\"M18.56 5.44l.94 2.06.94-2.06 2.06-.94-2.06-.94-.94-2.06-.94 2.06-2.06.94zm-11 1L8.5 8.5l.94-2.06 2.06-.94-2.06-.94L8.5 2.5l-.94 2.06-2.06.94zm10 10l.94 2.06.94-2.06 2.06-.94-2.06-.94-.94-2.06-.94 2.06-2.06.94z\"/><path d=\"M17.41 7.96l-1.37-1.37c-.4-.4-.92-.59-1.43-.59-.52 0-1.04.2-1.43.59L10.3 9.45l-7.72 7.72c-.78.78-.78 2.05 0 2.83L4 21.41c.39.39.9.59 1.41.59.51 0 1.02-.2 1.41-.59l7.78-7.78 2.81-2.81c.8-.78.8-2.07 0-2.86zM5.41 20L4 18.59l7.72-7.72 1.47 1.35L5.41 20z\"/>\n",
              "  </svg>\n",
              "      </button>\n",
              "      \n",
              "  <style>\n",
              "    .colab-df-container {\n",
              "      display:flex;\n",
              "      flex-wrap:wrap;\n",
              "      gap: 12px;\n",
              "    }\n",
              "\n",
              "    .colab-df-convert {\n",
              "      background-color: #E8F0FE;\n",
              "      border: none;\n",
              "      border-radius: 50%;\n",
              "      cursor: pointer;\n",
              "      display: none;\n",
              "      fill: #1967D2;\n",
              "      height: 32px;\n",
              "      padding: 0 0 0 0;\n",
              "      width: 32px;\n",
              "    }\n",
              "\n",
              "    .colab-df-convert:hover {\n",
              "      background-color: #E2EBFA;\n",
              "      box-shadow: 0px 1px 2px rgba(60, 64, 67, 0.3), 0px 1px 3px 1px rgba(60, 64, 67, 0.15);\n",
              "      fill: #174EA6;\n",
              "    }\n",
              "\n",
              "    [theme=dark] .colab-df-convert {\n",
              "      background-color: #3B4455;\n",
              "      fill: #D2E3FC;\n",
              "    }\n",
              "\n",
              "    [theme=dark] .colab-df-convert:hover {\n",
              "      background-color: #434B5C;\n",
              "      box-shadow: 0px 1px 3px 1px rgba(0, 0, 0, 0.15);\n",
              "      filter: drop-shadow(0px 1px 2px rgba(0, 0, 0, 0.3));\n",
              "      fill: #FFFFFF;\n",
              "    }\n",
              "  </style>\n",
              "\n",
              "      <script>\n",
              "        const buttonEl =\n",
              "          document.querySelector('#df-5bd3fd68-3858-4f4a-8fe9-f5c1f73e7765 button.colab-df-convert');\n",
              "        buttonEl.style.display =\n",
              "          google.colab.kernel.accessAllowed ? 'block' : 'none';\n",
              "\n",
              "        async function convertToInteractive(key) {\n",
              "          const element = document.querySelector('#df-5bd3fd68-3858-4f4a-8fe9-f5c1f73e7765');\n",
              "          const dataTable =\n",
              "            await google.colab.kernel.invokeFunction('convertToInteractive',\n",
              "                                                     [key], {});\n",
              "          if (!dataTable) return;\n",
              "\n",
              "          const docLinkHtml = 'Like what you see? Visit the ' +\n",
              "            '<a target=\"_blank\" href=https://colab.research.google.com/notebooks/data_table.ipynb>data table notebook</a>'\n",
              "            + ' to learn more about interactive tables.';\n",
              "          element.innerHTML = '';\n",
              "          dataTable['output_type'] = 'display_data';\n",
              "          await google.colab.output.renderOutput(dataTable, element);\n",
              "          const docLink = document.createElement('div');\n",
              "          docLink.innerHTML = docLinkHtml;\n",
              "          element.appendChild(docLink);\n",
              "        }\n",
              "      </script>\n",
              "    </div>\n",
              "  </div>\n",
              "  "
            ]
          },
          "metadata": {},
          "execution_count": 21
        }
      ]
    },
    {
      "cell_type": "markdown",
      "metadata": {
        "id": "LukymgSQk-pA"
      },
      "source": [
        "Renomeando as colunas"
      ]
    },
    {
      "cell_type": "code",
      "metadata": {
        "colab": {
          "base_uri": "https://localhost:8080/",
          "height": 424
        },
        "id": "cR8YR9-KZLLB",
        "outputId": "00d3a43c-bb84-4d0d-854a-4680fab60a51"
      },
      "source": [
        "df = df.rename({'TIME': 'Ano', 'ICD10': 'Causa da morte', 'Value': 'Quantidade de Óbitos'}, axis = 1)\n",
        "df"
      ],
      "execution_count": 22,
      "outputs": [
        {
          "output_type": "execute_result",
          "data": {
            "text/plain": [
              "       Ano                                     Causa da morte  \\\n",
              "0     2001    All causes of death (A00-Y89) excluding S00-T98   \n",
              "1     2001  Certain infectious and parasitic diseases (A00...   \n",
              "2     2001                                       Tuberculosis   \n",
              "3     2001                            Meningococcal infection   \n",
              "4     2001                                    Viral hepatitis   \n",
              "...    ...                                                ...   \n",
              "1051  2008                                              Falls   \n",
              "1052  2008  Accidental poisoning by and exposure to noxiou...   \n",
              "1053  2008                              Intentional self-harm   \n",
              "1054  2008                                            Assault   \n",
              "1055  2008                       Event of undetermined intent   \n",
              "\n",
              "     Quantidade de Óbitos  \n",
              "0                 277 858  \n",
              "1                   5 347  \n",
              "2                     545  \n",
              "3                      30  \n",
              "4                     471  \n",
              "...                   ...  \n",
              "1051                2 815  \n",
              "1052                  630  \n",
              "1053                2 768  \n",
              "1054                  166  \n",
              "1055                   68  \n",
              "\n",
              "[1056 rows x 3 columns]"
            ],
            "text/html": [
              "\n",
              "  <div id=\"df-14e6fc72-8f4a-48c3-b50b-6d6ac8e45a58\">\n",
              "    <div class=\"colab-df-container\">\n",
              "      <div>\n",
              "<style scoped>\n",
              "    .dataframe tbody tr th:only-of-type {\n",
              "        vertical-align: middle;\n",
              "    }\n",
              "\n",
              "    .dataframe tbody tr th {\n",
              "        vertical-align: top;\n",
              "    }\n",
              "\n",
              "    .dataframe thead th {\n",
              "        text-align: right;\n",
              "    }\n",
              "</style>\n",
              "<table border=\"1\" class=\"dataframe\">\n",
              "  <thead>\n",
              "    <tr style=\"text-align: right;\">\n",
              "      <th></th>\n",
              "      <th>Ano</th>\n",
              "      <th>Causa da morte</th>\n",
              "      <th>Quantidade de Óbitos</th>\n",
              "    </tr>\n",
              "  </thead>\n",
              "  <tbody>\n",
              "    <tr>\n",
              "      <th>0</th>\n",
              "      <td>2001</td>\n",
              "      <td>All causes of death (A00-Y89) excluding S00-T98</td>\n",
              "      <td>277 858</td>\n",
              "    </tr>\n",
              "    <tr>\n",
              "      <th>1</th>\n",
              "      <td>2001</td>\n",
              "      <td>Certain infectious and parasitic diseases (A00...</td>\n",
              "      <td>5 347</td>\n",
              "    </tr>\n",
              "    <tr>\n",
              "      <th>2</th>\n",
              "      <td>2001</td>\n",
              "      <td>Tuberculosis</td>\n",
              "      <td>545</td>\n",
              "    </tr>\n",
              "    <tr>\n",
              "      <th>3</th>\n",
              "      <td>2001</td>\n",
              "      <td>Meningococcal infection</td>\n",
              "      <td>30</td>\n",
              "    </tr>\n",
              "    <tr>\n",
              "      <th>4</th>\n",
              "      <td>2001</td>\n",
              "      <td>Viral hepatitis</td>\n",
              "      <td>471</td>\n",
              "    </tr>\n",
              "    <tr>\n",
              "      <th>...</th>\n",
              "      <td>...</td>\n",
              "      <td>...</td>\n",
              "      <td>...</td>\n",
              "    </tr>\n",
              "    <tr>\n",
              "      <th>1051</th>\n",
              "      <td>2008</td>\n",
              "      <td>Falls</td>\n",
              "      <td>2 815</td>\n",
              "    </tr>\n",
              "    <tr>\n",
              "      <th>1052</th>\n",
              "      <td>2008</td>\n",
              "      <td>Accidental poisoning by and exposure to noxiou...</td>\n",
              "      <td>630</td>\n",
              "    </tr>\n",
              "    <tr>\n",
              "      <th>1053</th>\n",
              "      <td>2008</td>\n",
              "      <td>Intentional self-harm</td>\n",
              "      <td>2 768</td>\n",
              "    </tr>\n",
              "    <tr>\n",
              "      <th>1054</th>\n",
              "      <td>2008</td>\n",
              "      <td>Assault</td>\n",
              "      <td>166</td>\n",
              "    </tr>\n",
              "    <tr>\n",
              "      <th>1055</th>\n",
              "      <td>2008</td>\n",
              "      <td>Event of undetermined intent</td>\n",
              "      <td>68</td>\n",
              "    </tr>\n",
              "  </tbody>\n",
              "</table>\n",
              "<p>1056 rows × 3 columns</p>\n",
              "</div>\n",
              "      <button class=\"colab-df-convert\" onclick=\"convertToInteractive('df-14e6fc72-8f4a-48c3-b50b-6d6ac8e45a58')\"\n",
              "              title=\"Convert this dataframe to an interactive table.\"\n",
              "              style=\"display:none;\">\n",
              "        \n",
              "  <svg xmlns=\"http://www.w3.org/2000/svg\" height=\"24px\"viewBox=\"0 0 24 24\"\n",
              "       width=\"24px\">\n",
              "    <path d=\"M0 0h24v24H0V0z\" fill=\"none\"/>\n",
              "    <path d=\"M18.56 5.44l.94 2.06.94-2.06 2.06-.94-2.06-.94-.94-2.06-.94 2.06-2.06.94zm-11 1L8.5 8.5l.94-2.06 2.06-.94-2.06-.94L8.5 2.5l-.94 2.06-2.06.94zm10 10l.94 2.06.94-2.06 2.06-.94-2.06-.94-.94-2.06-.94 2.06-2.06.94z\"/><path d=\"M17.41 7.96l-1.37-1.37c-.4-.4-.92-.59-1.43-.59-.52 0-1.04.2-1.43.59L10.3 9.45l-7.72 7.72c-.78.78-.78 2.05 0 2.83L4 21.41c.39.39.9.59 1.41.59.51 0 1.02-.2 1.41-.59l7.78-7.78 2.81-2.81c.8-.78.8-2.07 0-2.86zM5.41 20L4 18.59l7.72-7.72 1.47 1.35L5.41 20z\"/>\n",
              "  </svg>\n",
              "      </button>\n",
              "      \n",
              "  <style>\n",
              "    .colab-df-container {\n",
              "      display:flex;\n",
              "      flex-wrap:wrap;\n",
              "      gap: 12px;\n",
              "    }\n",
              "\n",
              "    .colab-df-convert {\n",
              "      background-color: #E8F0FE;\n",
              "      border: none;\n",
              "      border-radius: 50%;\n",
              "      cursor: pointer;\n",
              "      display: none;\n",
              "      fill: #1967D2;\n",
              "      height: 32px;\n",
              "      padding: 0 0 0 0;\n",
              "      width: 32px;\n",
              "    }\n",
              "\n",
              "    .colab-df-convert:hover {\n",
              "      background-color: #E2EBFA;\n",
              "      box-shadow: 0px 1px 2px rgba(60, 64, 67, 0.3), 0px 1px 3px 1px rgba(60, 64, 67, 0.15);\n",
              "      fill: #174EA6;\n",
              "    }\n",
              "\n",
              "    [theme=dark] .colab-df-convert {\n",
              "      background-color: #3B4455;\n",
              "      fill: #D2E3FC;\n",
              "    }\n",
              "\n",
              "    [theme=dark] .colab-df-convert:hover {\n",
              "      background-color: #434B5C;\n",
              "      box-shadow: 0px 1px 3px 1px rgba(0, 0, 0, 0.15);\n",
              "      filter: drop-shadow(0px 1px 2px rgba(0, 0, 0, 0.3));\n",
              "      fill: #FFFFFF;\n",
              "    }\n",
              "  </style>\n",
              "\n",
              "      <script>\n",
              "        const buttonEl =\n",
              "          document.querySelector('#df-14e6fc72-8f4a-48c3-b50b-6d6ac8e45a58 button.colab-df-convert');\n",
              "        buttonEl.style.display =\n",
              "          google.colab.kernel.accessAllowed ? 'block' : 'none';\n",
              "\n",
              "        async function convertToInteractive(key) {\n",
              "          const element = document.querySelector('#df-14e6fc72-8f4a-48c3-b50b-6d6ac8e45a58');\n",
              "          const dataTable =\n",
              "            await google.colab.kernel.invokeFunction('convertToInteractive',\n",
              "                                                     [key], {});\n",
              "          if (!dataTable) return;\n",
              "\n",
              "          const docLinkHtml = 'Like what you see? Visit the ' +\n",
              "            '<a target=\"_blank\" href=https://colab.research.google.com/notebooks/data_table.ipynb>data table notebook</a>'\n",
              "            + ' to learn more about interactive tables.';\n",
              "          element.innerHTML = '';\n",
              "          dataTable['output_type'] = 'display_data';\n",
              "          await google.colab.output.renderOutput(dataTable, element);\n",
              "          const docLink = document.createElement('div');\n",
              "          docLink.innerHTML = docLinkHtml;\n",
              "          element.appendChild(docLink);\n",
              "        }\n",
              "      </script>\n",
              "    </div>\n",
              "  </div>\n",
              "  "
            ]
          },
          "metadata": {},
          "execution_count": 22
        }
      ]
    },
    {
      "cell_type": "code",
      "metadata": {
        "colab": {
          "base_uri": "https://localhost:8080/",
          "height": 376
        },
        "id": "KkmVMnCKlDgB",
        "outputId": "ea4c8909-6abc-49a8-cd67-21ca44285d06"
      },
      "source": [
        "\n",
        "grupo_ano = df.groupby('Ano')['Ano','Causa da morte','Quantidade de Óbitos']\n",
        "grupo_ano.head(10)"
      ],
      "execution_count": 29,
      "outputs": [
        {
          "output_type": "stream",
          "name": "stderr",
          "text": [
            "/usr/local/lib/python3.7/dist-packages/ipykernel_launcher.py:2: FutureWarning: Indexing with multiple keys (implicitly converted to a tuple of keys) will be deprecated, use a list instead.\n",
            "  \n"
          ]
        },
        {
          "output_type": "error",
          "ename": "AttributeError",
          "evalue": "ignored",
          "traceback": [
            "\u001b[0;31m---------------------------------------------------------------------------\u001b[0m",
            "\u001b[0;31mAttributeError\u001b[0m                            Traceback (most recent call last)",
            "\u001b[0;32m<ipython-input-29-28ca58686232>\u001b[0m in \u001b[0;36m<module>\u001b[0;34m()\u001b[0m\n\u001b[1;32m      1\u001b[0m \u001b[0;34m\u001b[0m\u001b[0m\n\u001b[0;32m----> 2\u001b[0;31m \u001b[0mgrupo_ano\u001b[0m \u001b[0;34m=\u001b[0m \u001b[0mdf\u001b[0m\u001b[0;34m.\u001b[0m\u001b[0mgroupby\u001b[0m\u001b[0;34m(\u001b[0m\u001b[0;34m'Ano'\u001b[0m\u001b[0;34m)\u001b[0m\u001b[0;34m[\u001b[0m\u001b[0;34m'Ano'\u001b[0m\u001b[0;34m,\u001b[0m\u001b[0;34m'Causa da morte'\u001b[0m\u001b[0;34m,\u001b[0m\u001b[0;34m'Quantidade de Óbitos'\u001b[0m\u001b[0;34m]\u001b[0m\u001b[0;34m.\u001b[0m\u001b[0mreset_index\u001b[0m\u001b[0;34m(\u001b[0m\u001b[0;32mTrue\u001b[0m\u001b[0;34m)\u001b[0m\u001b[0;34m\u001b[0m\u001b[0;34m\u001b[0m\u001b[0m\n\u001b[0m\u001b[1;32m      3\u001b[0m \u001b[0mgrupo_ano\u001b[0m\u001b[0;34m.\u001b[0m\u001b[0mhead\u001b[0m\u001b[0;34m(\u001b[0m\u001b[0;36m10\u001b[0m\u001b[0;34m)\u001b[0m\u001b[0;34m\u001b[0m\u001b[0;34m\u001b[0m\u001b[0m\n",
            "\u001b[0;32m/usr/local/lib/python3.7/dist-packages/pandas/core/groupby/groupby.py\u001b[0m in \u001b[0;36m__getattr__\u001b[0;34m(self, attr)\u001b[0m\n\u001b[1;32m    910\u001b[0m \u001b[0;34m\u001b[0m\u001b[0m\n\u001b[1;32m    911\u001b[0m         raise AttributeError(\n\u001b[0;32m--> 912\u001b[0;31m             \u001b[0;34mf\"'{type(self).__name__}' object has no attribute '{attr}'\"\u001b[0m\u001b[0;34m\u001b[0m\u001b[0;34m\u001b[0m\u001b[0m\n\u001b[0m\u001b[1;32m    913\u001b[0m         )\n\u001b[1;32m    914\u001b[0m \u001b[0;34m\u001b[0m\u001b[0m\n",
            "\u001b[0;31mAttributeError\u001b[0m: 'DataFrameGroupBy' object has no attribute 'reset_index'"
          ]
        }
      ]
    }
  ]
}